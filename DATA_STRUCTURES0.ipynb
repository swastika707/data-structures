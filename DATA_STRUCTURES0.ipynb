{
  "nbformat": 4,
  "nbformat_minor": 0,
  "metadata": {
    "colab": {
      "provenance": []
    },
    "kernelspec": {
      "name": "python3",
      "display_name": "Python 3"
    },
    "language_info": {
      "name": "python"
    }
  },
  "cells": [
    {
      "cell_type": "code",
      "source": [
        "4.#"
      ],
      "metadata": {
        "id": "GaIHaAc1qPwB"
      },
      "execution_count": null,
      "outputs": []
    },
    {
      "cell_type": "code",
      "execution_count": null,
      "metadata": {
        "id": "1XSJTTpVeQNJ"
      },
      "outputs": [],
      "source": []
    },
    {
      "cell_type": "markdown",
      "source": [
        "# DATA STRUCTURES\n"
      ],
      "metadata": {
        "id": "UjO71OJQeaE0"
      }
    },
    {
      "cell_type": "markdown",
      "source": [
        "1. What are data structures, and why are they important?\n",
        "   - data structures are a way to store data. data is stored in a memory block sequentially . thet are important so that later data can be accessed and manipulated.\n",
        "\n",
        "2. Explain the difference between mutable and immutable data types with examples?\n",
        "  - mutable data types we can change the values of the elements by accessing the index.eg: lists,dictionary . in immutable data types data cannot be changed by accessing the elements. eg: tuples\n",
        "\n",
        "3. What are the main differences between lists and tuples in Python?\n",
        "  - lists are ordered collection of elements that store heterogenous data and is mutable. tuples also store hetergenous data but they are immutable\n",
        "\n",
        "4. Describe how dictionaries store data?\n",
        "  - dictionary stores data in terms of key value pair.\n",
        "\n",
        "5.  Why might you use a set instead of a list in Python?\n",
        "  - set is used to access unique elements. list stores elements but the result cannot give unique elemnts. repeated elements are also given the no. of times they have occured.\n",
        "\n",
        "6. What is a string in Python, and how is it different from a list?\n",
        "   - string is unit of text where each character is a unit of text . list is an ordered collection of elements that stores heterogenous data and in mutable.\n",
        "\n",
        "7. How do tuples ensure data integrity in Python?\n",
        "   - tuples are immutable , hence the value cannot be chaanged . for eg; some exclusive info like atm  card number requires no change , hence tuples are used to store such values .\n",
        "\n",
        "8. What is a hash table, and how does it relate to dictionaries in Python?\n",
        "   - has table is used to convert the key into index in an array where the value is stored, and dictionary is implemented using a hash table behind the scenes .\n",
        "\n",
        "9. Can lists contain different data types in Python?\n",
        "   - yes list can contain heterogenous data.\n",
        "\n",
        "10. Explain why strings are immutable in Python?\n",
        "    - it helps to optimize memory by reusing common strings , else changing the one word would affect all  other elemets sharing the same memory location.\n",
        "\n",
        "11. What advantages do dictionaries offer over lists for certain tasks?\n",
        "    - dictionary is the fastest data structure . searching foir an element in the key value pair is the fastest.\n",
        "  \n",
        "12. Describe a scenario where using a tuple would be preferable over a list?\n",
        "   - tuples are immutable hence when we have data like aadar card number or atm card number, we dpnt need to make any changes to our data, in that case tuples are prefferd over lists.\n",
        "\n",
        "13. How do sets handle duplicate values in Python?\n",
        "    - duplicate values in sets are printed only one single time, it gives unique set of elements.\n",
        "\n",
        "14. How does the “in” keyword work differently for lists and dictionaries?\n",
        "    - the in keyword in sets checks whether a value is present in set or not whereas in dictionary it checks the key .\n",
        "\n",
        "15. Can you modify the elements of a tuple? Explain why or why not?\n",
        "    - no , we cannot modify elements of a tuple because a tuple is immutable .\n",
        "\n",
        "16. What is a nested dictionary, and give an example of its use case?\n",
        "    - a dictionary stores data in terms of key value pair. used when we need to access the value using keys and not index.\n",
        "\n",
        "17. Describe the time complexity of accessing elements in a dictionary?\n",
        "    - dictionary are implemented using hash tables which makes the key based access very efficient.\n",
        "\n",
        "18. In what situations are lists preferred over dictionaries?\n",
        "    - list are used when weneed to access elemts using theor position i.e index. and lists are also better for sorting and slicing.\n",
        "\n",
        "19. Why are dictionaries considered unordered, and how does that affect data retrieval?\n",
        "    - dictionaries are unordered because elements dont have a fixed index , hence the data is retierved using a key value pair and not index valu.\n",
        "  \n",
        "20. Explain the difference between a list and a dictionary in terms of data retrieval?\n",
        "    - in list data is retireved using index values and in dictionary it is accessed using a keys .\n",
        "\n",
        "#CODE QUESTIONS:\n",
        "\n",
        "1.\n",
        "\n",
        "\n",
        "\n",
        "\n",
        "\n",
        "\n",
        "\n",
        "\n",
        "\n",
        "\n",
        "\n",
        "\n",
        "\n",
        "\n",
        "\n",
        "\n",
        "\n",
        "\n"
      ],
      "metadata": {
        "id": "9AearPkJegkl"
      }
    },
    {
      "cell_type": "code",
      "source": [
        "1. # Write a code to create a string with your name and print it?\n",
        "\n",
        "name=\"swastika\"\n",
        "print(name)\n"
      ],
      "metadata": {
        "colab": {
          "base_uri": "https://localhost:8080/"
        },
        "id": "8Ty3omYfn8ni",
        "outputId": "170fd360-62fd-4989-b8fc-f0a0e05ef3ed"
      },
      "execution_count": 3,
      "outputs": [
        {
          "output_type": "stream",
          "name": "stdout",
          "text": [
            "swastika\n"
          ]
        }
      ]
    },
    {
      "cell_type": "markdown",
      "source": [
        "\n"
      ],
      "metadata": {
        "id": "zEubgoaaehBg"
      }
    },
    {
      "cell_type": "code",
      "source": [
        "2.# Write a code to find the length of the string \"Hello World\"?\n",
        "word_name =\"hello world\"\n",
        "len(word_name)\n"
      ],
      "metadata": {
        "colab": {
          "base_uri": "https://localhost:8080/"
        },
        "id": "ITF9F9qtpA6e",
        "outputId": "ccb592b7-4b5b-4c12-a7ec-acc12d0d1405"
      },
      "execution_count": 7,
      "outputs": [
        {
          "output_type": "execute_result",
          "data": {
            "text/plain": [
              "11"
            ]
          },
          "metadata": {},
          "execution_count": 7
        }
      ]
    },
    {
      "cell_type": "markdown",
      "source": [],
      "metadata": {
        "id": "QrkBszYxehGa"
      }
    },
    {
      "cell_type": "code",
      "source": [
        "3.# Write a code to slice the first 3 characters from the string \"Python Programming\"?\n",
        "name=\"python programming\"\n",
        "name[0:3]\n"
      ],
      "metadata": {
        "colab": {
          "base_uri": "https://localhost:8080/",
          "height": 36
        },
        "id": "GdVYtWaPpmsf",
        "outputId": "260a36a5-9d97-4a51-e298-edc68ad3a32c"
      },
      "execution_count": 9,
      "outputs": [
        {
          "output_type": "execute_result",
          "data": {
            "text/plain": [
              "'pyt'"
            ],
            "application/vnd.google.colaboratory.intrinsic+json": {
              "type": "string"
            }
          },
          "metadata": {},
          "execution_count": 9
        }
      ]
    },
    {
      "cell_type": "code",
      "source": [
        "4.#write a code to convert string hello to uppercase.\n",
        "string=\"hello\"\n",
        "string.upper()"
      ],
      "metadata": {
        "colab": {
          "base_uri": "https://localhost:8080/",
          "height": 36
        },
        "id": "nmXiVIXIqDOr",
        "outputId": "deff13db-d9ab-457f-8e9c-5c43035cc2eb"
      },
      "execution_count": 10,
      "outputs": [
        {
          "output_type": "execute_result",
          "data": {
            "text/plain": [
              "'HELLO'"
            ],
            "application/vnd.google.colaboratory.intrinsic+json": {
              "type": "string"
            }
          },
          "metadata": {},
          "execution_count": 10
        }
      ]
    },
    {
      "cell_type": "code",
      "source": [
        "5.# Write a code to replace the word \"apple\" with \"orange\" in the string \"I like apple\"\n",
        "string=\"I like apple\"\n",
        "string.replace(\"apple\", \"orange\")\n"
      ],
      "metadata": {
        "colab": {
          "base_uri": "https://localhost:8080/",
          "height": 36
        },
        "id": "X__XMdp4q8Ma",
        "outputId": "ef783466-b72c-485f-bb7f-4e6add721292"
      },
      "execution_count": 11,
      "outputs": [
        {
          "output_type": "execute_result",
          "data": {
            "text/plain": [
              "'I like orange'"
            ],
            "application/vnd.google.colaboratory.intrinsic+json": {
              "type": "string"
            }
          },
          "metadata": {},
          "execution_count": 11
        }
      ]
    },
    {
      "cell_type": "code",
      "source": [
        "6.# Write a code to create a list with numbers 1 to 5 and print it\n",
        "list=[1,2,3,4,5]\n",
        "print(list)\n",
        "\n",
        "\n"
      ],
      "metadata": {
        "colab": {
          "base_uri": "https://localhost:8080/"
        },
        "id": "aVe7gcgcrSDD",
        "outputId": "1210894f-8b1f-4e24-d720-c8c349b4758e"
      },
      "execution_count": 16,
      "outputs": [
        {
          "output_type": "stream",
          "name": "stdout",
          "text": [
            "[1, 2, 3, 4, 5]\n"
          ]
        }
      ]
    },
    {
      "cell_type": "code",
      "source": [
        "from os import listdir\n",
        "7.# Write a code to append the number 10 to the list [1, 2, 3, 4]?\n",
        "list=[1,2,3,4]\n",
        "list.append(10)\n",
        "print(list)"
      ],
      "metadata": {
        "colab": {
          "base_uri": "https://localhost:8080/"
        },
        "id": "UoS7pEdir20q",
        "outputId": "4cf68896-2e78-4695-ac63-118daae64b2d"
      },
      "execution_count": 22,
      "outputs": [
        {
          "output_type": "stream",
          "name": "stdout",
          "text": [
            "[1, 2, 3, 4, 10]\n"
          ]
        }
      ]
    },
    {
      "cell_type": "code",
      "source": [
        "8.#Write a code to remove the number 3 from the list [1, 2, 3, 4, 5]?\n",
        "list=[1,2,3,4,5]\n",
        "list.remove(3)\n",
        "print(list)\n"
      ],
      "metadata": {
        "colab": {
          "base_uri": "https://localhost:8080/"
        },
        "id": "DhIXHvf8tcW5",
        "outputId": "6efb0b62-c894-4b96-e7b2-8a32925afab6"
      },
      "execution_count": 23,
      "outputs": [
        {
          "output_type": "stream",
          "name": "stdout",
          "text": [
            "[1, 2, 4, 5]\n"
          ]
        }
      ]
    },
    {
      "cell_type": "code",
      "source": [
        "9 # Write a code to access the second element in the list ['a', 'b', 'c', 'd']?\n",
        "list=[\"a\",\"b\",\"c\",\"d\"]\n",
        "list[1]\n",
        "\n"
      ],
      "metadata": {
        "colab": {
          "base_uri": "https://localhost:8080/",
          "height": 36
        },
        "id": "gX9wNN7htxrw",
        "outputId": "d73c9fd6-12da-416b-de8d-bd1fd3553f8d"
      },
      "execution_count": 24,
      "outputs": [
        {
          "output_type": "execute_result",
          "data": {
            "text/plain": [
              "'b'"
            ],
            "application/vnd.google.colaboratory.intrinsic+json": {
              "type": "string"
            }
          },
          "metadata": {},
          "execution_count": 24
        }
      ]
    },
    {
      "cell_type": "code",
      "source": [
        "10# Write a code to reverse the list [10, 20, 30, 40, 50].\n",
        "list=[10,20,30,40]\n",
        "list.reverse()\n",
        "print(list)"
      ],
      "metadata": {
        "colab": {
          "base_uri": "https://localhost:8080/"
        },
        "id": "swRHjkwKvTCZ",
        "outputId": "a70dd3e9-5f4f-4457-ae28-aa912376f042"
      },
      "execution_count": 26,
      "outputs": [
        {
          "output_type": "stream",
          "name": "stdout",
          "text": [
            "[40, 30, 20, 10]\n"
          ]
        }
      ]
    },
    {
      "cell_type": "code",
      "source": [
        "11#write a code to create a tuple with elemets 100,200,300 and print it\n",
        "tuple=(100,200,300)\n",
        "print(tuple)"
      ],
      "metadata": {
        "colab": {
          "base_uri": "https://localhost:8080/"
        },
        "id": "-Nujabblvwa7",
        "outputId": "17dc63cb-790f-4870-b101-abbda03fdfe5"
      },
      "execution_count": 27,
      "outputs": [
        {
          "output_type": "stream",
          "name": "stdout",
          "text": [
            "(100, 200, 300)\n"
          ]
        }
      ]
    },
    {
      "cell_type": "code",
      "source": [
        "12#D P Write a code to access the second last element of the tuple (bred,green,blue,yellow)\n",
        "tuple=(\"red\",\"green\",\"blue\",\"yellow\")\n",
        "tuple[-2]"
      ],
      "metadata": {
        "colab": {
          "base_uri": "https://localhost:8080/",
          "height": 36
        },
        "id": "wpnpmLD4wXi2",
        "outputId": "a782b924-3d34-4d19-fe5a-afe166ca023b"
      },
      "execution_count": 28,
      "outputs": [
        {
          "output_type": "execute_result",
          "data": {
            "text/plain": [
              "'blue'"
            ],
            "application/vnd.google.colaboratory.intrinsic+json": {
              "type": "string"
            }
          },
          "metadata": {},
          "execution_count": 28
        }
      ]
    },
    {
      "cell_type": "code",
      "source": [
        "13#. Write a code to find the index of the element \"cat\" in the tuple ('dog', 'cat', 'rabbit').\n",
        "tuple=(\"dog\",\"cat\",\"rabbit\")\n",
        "tuple.index(\"cat\")"
      ],
      "metadata": {
        "colab": {
          "base_uri": "https://localhost:8080/"
        },
        "id": "j9dwhwo-w8Wo",
        "outputId": "62b22bce-0715-4abd-f5ac-51db0201b1e3"
      },
      "execution_count": 31,
      "outputs": [
        {
          "output_type": "execute_result",
          "data": {
            "text/plain": [
              "1"
            ]
          },
          "metadata": {},
          "execution_count": 31
        }
      ]
    },
    {
      "cell_type": "code",
      "source": [
        "#15. Write a code to create a tuple containing three different fruits and check if \"kiwi\" is in it.\n",
        "tuple=(\"apple\",\"mango\",\"kiwi\")\n",
        "\"kiwi\" in tuple"
      ],
      "metadata": {
        "colab": {
          "base_uri": "https://localhost:8080/"
        },
        "id": "P54b-M8exNlO",
        "outputId": "ece1d536-3f0d-4aa7-c57a-d98db829e63f"
      },
      "execution_count": 32,
      "outputs": [
        {
          "output_type": "execute_result",
          "data": {
            "text/plain": [
              "True"
            ]
          },
          "metadata": {},
          "execution_count": 32
        }
      ]
    },
    {
      "cell_type": "code",
      "source": [
        "16. #Write a code to create a set with the elements 'a', 'b', 'c' and print it.\n",
        "set={\"a\",\"b\",\"c\"}\n",
        "print(set)"
      ],
      "metadata": {
        "colab": {
          "base_uri": "https://localhost:8080/"
        },
        "id": "fhsslqKcx7iQ",
        "outputId": "92e627ff-a2ff-42a5-d376-a0598645c22e"
      },
      "execution_count": 33,
      "outputs": [
        {
          "output_type": "stream",
          "name": "stdout",
          "text": [
            "{'b', 'a', 'c'}\n"
          ]
        }
      ]
    },
    {
      "cell_type": "code",
      "source": [
        "17.#17. Write a code to clear all elements from the set {1, 2, 3, 4, 5}.\n",
        "set={1,2,3,4}\n",
        "set.discard(1,2,3,4)\n",
        "print(set)"
      ],
      "metadata": {
        "colab": {
          "base_uri": "https://localhost:8080/",
          "height": 193
        },
        "id": "JDrGHIVSyQb5",
        "outputId": "fbc685fa-8c49-4ec1-c400-83295c723e36"
      },
      "execution_count": 39,
      "outputs": [
        {
          "output_type": "error",
          "ename": "TypeError",
          "evalue": "set.discard() takes exactly one argument (4 given)",
          "traceback": [
            "\u001b[0;31m---------------------------------------------------------------------------\u001b[0m",
            "\u001b[0;31mTypeError\u001b[0m                                 Traceback (most recent call last)",
            "\u001b[0;32m/tmp/ipython-input-39-3994505775.py\u001b[0m in \u001b[0;36m<cell line: 0>\u001b[0;34m()\u001b[0m\n\u001b[1;32m      1\u001b[0m \u001b[0;36m17.\u001b[0m\u001b[0;31m#17. Write a code to clear all elements from the set {1, 2, 3, 4, 5}.\u001b[0m\u001b[0;34m\u001b[0m\u001b[0;34m\u001b[0m\u001b[0m\n\u001b[1;32m      2\u001b[0m \u001b[0mset\u001b[0m\u001b[0;34m=\u001b[0m\u001b[0;34m{\u001b[0m\u001b[0;36m1\u001b[0m\u001b[0;34m,\u001b[0m\u001b[0;36m2\u001b[0m\u001b[0;34m,\u001b[0m\u001b[0;36m3\u001b[0m\u001b[0;34m,\u001b[0m\u001b[0;36m4\u001b[0m\u001b[0;34m}\u001b[0m\u001b[0;34m\u001b[0m\u001b[0;34m\u001b[0m\u001b[0m\n\u001b[0;32m----> 3\u001b[0;31m \u001b[0mset\u001b[0m\u001b[0;34m.\u001b[0m\u001b[0mdiscard\u001b[0m\u001b[0;34m(\u001b[0m\u001b[0;36m1\u001b[0m\u001b[0;34m,\u001b[0m\u001b[0;36m2\u001b[0m\u001b[0;34m,\u001b[0m\u001b[0;36m3\u001b[0m\u001b[0;34m,\u001b[0m\u001b[0;36m4\u001b[0m\u001b[0;34m)\u001b[0m\u001b[0;34m\u001b[0m\u001b[0;34m\u001b[0m\u001b[0m\n\u001b[0m\u001b[1;32m      4\u001b[0m \u001b[0mprint\u001b[0m\u001b[0;34m(\u001b[0m\u001b[0mset\u001b[0m\u001b[0;34m)\u001b[0m\u001b[0;34m\u001b[0m\u001b[0;34m\u001b[0m\u001b[0m\n",
            "\u001b[0;31mTypeError\u001b[0m: set.discard() takes exactly one argument (4 given)"
          ]
        }
      ]
    },
    {
      "cell_type": "code",
      "source": [
        "18.#18. Write a code to remove the element 4 from the set {1, 2, 3, 4}.\n",
        "set={1,2,3,4}\n",
        "set.remove(3)\n",
        "print(set)"
      ],
      "metadata": {
        "colab": {
          "base_uri": "https://localhost:8080/"
        },
        "id": "V-8ZnOxkydFI",
        "outputId": "f9f63653-0294-4303-a4e9-60205609add5"
      },
      "execution_count": 38,
      "outputs": [
        {
          "output_type": "stream",
          "name": "stdout",
          "text": [
            "{1, 2, 4}\n"
          ]
        }
      ]
    },
    {
      "cell_type": "code",
      "source": [
        "#19. Write a code to find the union of two sets {1, 2, 3} and {3, 4, 5}.\n",
        "set1={1,2,3}\n",
        "set2={3,4,5}\n",
        "set1|set2"
      ],
      "metadata": {
        "colab": {
          "base_uri": "https://localhost:8080/"
        },
        "id": "JD0fM2KzzCeh",
        "outputId": "e38df449-a7d5-4ed6-e03e-3c5c6acf8fe9"
      },
      "execution_count": 41,
      "outputs": [
        {
          "output_type": "execute_result",
          "data": {
            "text/plain": [
              "{1, 2, 3, 4, 5}"
            ]
          },
          "metadata": {},
          "execution_count": 41
        }
      ]
    },
    {
      "cell_type": "code",
      "source": [
        "#20. Write a code to find the intersection of two sets {1, 2, 3} and {2, 3, 4}.\n",
        "s1={1,2,3}\n",
        "s2={2,3,4}\n",
        "s1&s2\n"
      ],
      "metadata": {
        "colab": {
          "base_uri": "https://localhost:8080/"
        },
        "id": "eJ7y-Dq9zRbP",
        "outputId": "3d95d95a-9e5a-4dd0-ac68-b6d4da6b9ad7"
      },
      "execution_count": 42,
      "outputs": [
        {
          "output_type": "execute_result",
          "data": {
            "text/plain": [
              "{2, 3}"
            ]
          },
          "metadata": {},
          "execution_count": 42
        }
      ]
    },
    {
      "cell_type": "code",
      "source": [
        "#21. Write a code to create a dictionary with the keys \"name\", \"age\", and \"city\", and print it.\n",
        "dict={\"name\":\"swastika,\",\"age\":21,\"city\":\"dehradun\"}\n",
        "print(dict)"
      ],
      "metadata": {
        "colab": {
          "base_uri": "https://localhost:8080/"
        },
        "id": "2x3g8plXzxNj",
        "outputId": "5dc6cefa-b987-4df8-8cff-da0d16726e3a"
      },
      "execution_count": 44,
      "outputs": [
        {
          "output_type": "stream",
          "name": "stdout",
          "text": [
            "{'name': 'swastika,', 'age': 21, 'city': 'dehradun'}\n"
          ]
        }
      ]
    },
    {
      "cell_type": "code",
      "source": [
        "#22. Write a code to add a new key-value pair \"country\": \"USA\" to the dictionary {'name': 'John', 'age': 25}.\n",
        "dict={\"name\":\"john\",\"age\":25}\n",
        "dict[\"country\"]=\"usa\"\n",
        "print(dict)"
      ],
      "metadata": {
        "colab": {
          "base_uri": "https://localhost:8080/"
        },
        "id": "ADH50giD3T8E",
        "outputId": "cf01bfd4-7a44-4df5-9e6d-716bc4823e34"
      },
      "execution_count": 45,
      "outputs": [
        {
          "output_type": "stream",
          "name": "stdout",
          "text": [
            "{'name': 'john', 'age': 25, 'country': 'usa'}\n"
          ]
        }
      ]
    },
    {
      "cell_type": "code",
      "source": [
        "#23. Write a code to access the value associated with the key \"name\" in the dictionary {'name': 'Alice', 'age': 30}.\n",
        "dict={\"name\":\"alice\",\"age\":30}\n",
        "dict[\"name\"]"
      ],
      "metadata": {
        "colab": {
          "base_uri": "https://localhost:8080/",
          "height": 36
        },
        "id": "96ciukro4Nbz",
        "outputId": "014966f0-a11d-4d43-839e-86c65ae1fbed"
      },
      "execution_count": 46,
      "outputs": [
        {
          "output_type": "execute_result",
          "data": {
            "text/plain": [
              "'alice'"
            ],
            "application/vnd.google.colaboratory.intrinsic+json": {
              "type": "string"
            }
          },
          "metadata": {},
          "execution_count": 46
        }
      ]
    },
    {
      "cell_type": "code",
      "source": [
        "#24. Write a code to remove the key \"age\" from the dictionary {'name': 'Bob', 'age': 22, 'city': 'New York'}.\n",
        "dict={\"name\":\"bob\",\"age\":22, \"city\":\"new york\"}\n",
        "del dict[\"age\"]\n",
        "print(dict)"
      ],
      "metadata": {
        "colab": {
          "base_uri": "https://localhost:8080/"
        },
        "id": "gd3BUEsf4jKR",
        "outputId": "374e53f1-cbd7-415a-fc60-7b2cae7d41ba"
      },
      "execution_count": 50,
      "outputs": [
        {
          "output_type": "stream",
          "name": "stdout",
          "text": [
            "{'name': 'bob', 'city': 'new york'}\n"
          ]
        }
      ]
    },
    {
      "cell_type": "code",
      "source": [
        "#25. Write a code to check if the key \"city\" exists in the dictionary {'name': 'Alice', 'city': 'Paris'}.\n",
        "dict={\"name\":\"alice\", \"city\":\"paris\"}\n",
        "\"city\" in dict"
      ],
      "metadata": {
        "colab": {
          "base_uri": "https://localhost:8080/"
        },
        "id": "2gowrr4k426N",
        "outputId": "b05886fb-9f38-40dc-c8c2-e3ed889b00f9"
      },
      "execution_count": 51,
      "outputs": [
        {
          "output_type": "execute_result",
          "data": {
            "text/plain": [
              "True"
            ]
          },
          "metadata": {},
          "execution_count": 51
        }
      ]
    },
    {
      "cell_type": "code",
      "source": [
        "#26. Write a code to create a list, a tuple, and a dictionary, and print them all.\n",
        "list=[1,2,3,4]\n",
        "tuple=(5,6,7,8)\n",
        "dict={\"name\":\"swastika\",\"age\":21}\n",
        "print(list)\n",
        "print(tuple)\n",
        "print(dict)"
      ],
      "metadata": {
        "colab": {
          "base_uri": "https://localhost:8080/"
        },
        "id": "OKSOQSub5bjk",
        "outputId": "73cfdd2d-afa5-423c-972d-ea2fa8d63a24"
      },
      "execution_count": 52,
      "outputs": [
        {
          "output_type": "stream",
          "name": "stdout",
          "text": [
            "[1, 2, 3, 4]\n",
            "(5, 6, 7, 8)\n",
            "{'name': 'swastika', 'age': 21}\n"
          ]
        }
      ]
    },
    {
      "cell_type": "code",
      "source": [
        "#27. Write a code to create a list of 5 random numbers between 1 and 100, sort it in ascending order, and print the\n",
        "list=[10,25,67,34,22]\n",
        "sorted(list)\n",
        "print(list)"
      ],
      "metadata": {
        "colab": {
          "base_uri": "https://localhost:8080/"
        },
        "id": "IAwGVkWy50lE",
        "outputId": "d80b1c62-bfcd-44e1-c2e1-6843135c2ec1"
      },
      "execution_count": 53,
      "outputs": [
        {
          "output_type": "stream",
          "name": "stdout",
          "text": [
            "[10, 25, 67, 34, 22]\n"
          ]
        }
      ]
    },
    {
      "cell_type": "code",
      "source": [
        "#28. Write a code to create a list with strings and print the element at the third index.\n",
        "list=[\"aman\",\"ajay\",\"ayush\",\"garvit\"]\n",
        "list[2]"
      ],
      "metadata": {
        "colab": {
          "base_uri": "https://localhost:8080/",
          "height": 36
        },
        "id": "cdZDQcbf6X3J",
        "outputId": "e9a438ee-158f-4f8b-deb9-12e9563aab7f"
      },
      "execution_count": 54,
      "outputs": [
        {
          "output_type": "execute_result",
          "data": {
            "text/plain": [
              "'ayush'"
            ],
            "application/vnd.google.colaboratory.intrinsic+json": {
              "type": "string"
            }
          },
          "metadata": {},
          "execution_count": 54
        }
      ]
    },
    {
      "cell_type": "code",
      "source": [
        "#29. Write a code to combine two dictionaries into one and print the result.\n",
        "dict1={\"name\":\"swastika\",\"age\":22}\n",
        "dict2={\"country\":\"india\", \"city\":\"dehradun\"}\n",
        "result=dict1|dict2\n",
        "print(result)"
      ],
      "metadata": {
        "colab": {
          "base_uri": "https://localhost:8080/"
        },
        "id": "shvTd8Xs6tVZ",
        "outputId": "48c18278-ffc0-495c-93e6-49065f0c129c"
      },
      "execution_count": 56,
      "outputs": [
        {
          "output_type": "stream",
          "name": "stdout",
          "text": [
            "{'name': 'swastika', 'age': 22, 'country': 'india', 'city': 'dehradun'}\n"
          ]
        }
      ]
    },
    {
      "cell_type": "code",
      "source": [
        "#30. Write a code to convert a list of strings into a set.\n",
        "old_list=[\"apple\",\"bannna\",\"mango\",\"apple\"]\n",
        "new_set=set(old_list)\n",
        "print(new_set)"
      ],
      "metadata": {
        "colab": {
          "base_uri": "https://localhost:8080/",
          "height": 193
        },
        "id": "odA9KRBx7KVn",
        "outputId": "7fe93318-4d17-4ad4-ab2f-5ea66a5eaa24"
      },
      "execution_count": 61,
      "outputs": [
        {
          "output_type": "error",
          "ename": "TypeError",
          "evalue": "'set' object is not callable",
          "traceback": [
            "\u001b[0;31m---------------------------------------------------------------------------\u001b[0m",
            "\u001b[0;31mTypeError\u001b[0m                                 Traceback (most recent call last)",
            "\u001b[0;32m/tmp/ipython-input-61-977248942.py\u001b[0m in \u001b[0;36m<cell line: 0>\u001b[0;34m()\u001b[0m\n\u001b[1;32m      1\u001b[0m \u001b[0;31m#30. Write a code to convert a list of strings into a set.\u001b[0m\u001b[0;34m\u001b[0m\u001b[0;34m\u001b[0m\u001b[0m\n\u001b[1;32m      2\u001b[0m \u001b[0mold_list\u001b[0m\u001b[0;34m=\u001b[0m\u001b[0;34m[\u001b[0m\u001b[0;34m\"apple\"\u001b[0m\u001b[0;34m,\u001b[0m\u001b[0;34m\"bannna\"\u001b[0m\u001b[0;34m,\u001b[0m\u001b[0;34m\"mango\"\u001b[0m\u001b[0;34m,\u001b[0m\u001b[0;34m\"apple\"\u001b[0m\u001b[0;34m]\u001b[0m\u001b[0;34m\u001b[0m\u001b[0;34m\u001b[0m\u001b[0m\n\u001b[0;32m----> 3\u001b[0;31m \u001b[0mnew_set\u001b[0m\u001b[0;34m=\u001b[0m\u001b[0mset\u001b[0m\u001b[0;34m(\u001b[0m\u001b[0mold_list\u001b[0m\u001b[0;34m)\u001b[0m\u001b[0;34m\u001b[0m\u001b[0;34m\u001b[0m\u001b[0m\n\u001b[0m\u001b[1;32m      4\u001b[0m \u001b[0mprint\u001b[0m\u001b[0;34m(\u001b[0m\u001b[0mnew_set\u001b[0m\u001b[0;34m)\u001b[0m\u001b[0;34m\u001b[0m\u001b[0;34m\u001b[0m\u001b[0m\n",
            "\u001b[0;31mTypeError\u001b[0m: 'set' object is not callable"
          ]
        }
      ]
    },
    {
      "cell_type": "code",
      "source": [],
      "metadata": {
        "id": "AP04ieue8D1J"
      },
      "execution_count": null,
      "outputs": []
    }
  ]
}